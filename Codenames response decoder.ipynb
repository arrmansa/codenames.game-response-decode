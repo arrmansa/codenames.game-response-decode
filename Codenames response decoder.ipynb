{
 "cells": [
  {
   "cell_type": "markdown",
   "id": "657f2739",
   "metadata": {},
   "source": [
    "# Instructions\n",
    "Go to game url in chrome <br>\n",
    "open developer tools using one of<br>\n",
    "1. command + option + i \n",
    "2. ctrl + shift + i\n",
    "3. tools > more tools > developer options\n",
    "\n",
    "Select Network tab<br>\n",
    "Refresh page <br>\n",
    "Filter packets by 'transport=polling' and/or Fetch/XHR <br>\n",
    "Find the latest one with more than 2kb of data <br>\n",
    "Copy the response and paste it into response variable with single quotes or triple quotes <br>"
   ]
  },
  {
   "cell_type": "code",
   "execution_count": 1,
   "id": "b6d4e460",
   "metadata": {},
   "outputs": [],
   "source": [
    "import json\n",
    "import re"
   ]
  },
  {
   "cell_type": "code",
   "execution_count": 2,
   "id": "ddba0669",
   "metadata": {},
   "outputs": [],
   "source": [
    "response = '''\n",
    "31:42/codenames,[\"reload\",\"2.2.0\"]101:42/codenames,[\"players\",[{\"id\":0,\"name\":\"jdijdi\",\"isConnected\":true,\"isHost\":true,\"isHidden\":false}]]15074:42/codenames,[\"sync\",\"trip-moon-chair\",{\"state\":{\"G\":{\"matchID\":\"lm3iZ4Zw\",\"matchNum\":1,\"aroundURL\":\"\",\"teams\":{\"red\":{\"operatives\":[],\"spymasters\":[]},\"blue\":{\"operatives\":[0],\"spymasters\":[]},\"team1\":[],\"team2\":[]},\"currentTeam\":\"blue\",\"prevSettings\":{\"settingsVariant\":\"recommended\",\"gameMode\":\"classic\",\"language\":\"en\",\"useDefault\":false,\"packs\":[{\"name\":\"Codenames\",\"mix\":\"add\"},{\"name\":\"Codenames: Duet\",\"mix\":\"add\"}]},\"clue\":{\"word\":null,\"number\":null},\"guessLimit\":-1,\"guesses\":-1,\"log\":[],\"animTokens\":[{\"id\":\"coverCard/red/16\",\"type\":\"coverCard\",\"data\":{\"color\":\"red\",\"img\":5},\"location\":{\"name\":\"redDeck\"}},{\"id\":\"wordCard/8\",\"type\":\"wordCard\",\"data\":{\"word\":\"ENGLAND\",\"revealed\":false,\"selected\":false,\"tips\":[]},\"location\":{\"name\":\"board\",\"x\":3,\"y\":1}},{\"id\":\"coverCard/red/20\",\"type\":\"coverCard\",\"data\":{\"color\":\"red\",\"img\":2},\"location\":{\"name\":\"redDeck\"}},{\"id\":\"wordCard/23\",\"type\":\"wordCard\",\"data\":{\"word\":\"SLIPPER\",\"revealed\":false,\"selected\":false,\"tips\":[]},\"location\":{\"name\":\"board\",\"x\":3,\"y\":4}},{\"id\":\"wordCard/15\",\"type\":\"wordCard\",\"data\":{\"word\":\"LACE\",\"revealed\":false,\"selected\":false,\"tips\":[]},\"location\":{\"name\":\"board\",\"x\":0,\"y\":3}},{\"id\":\"wordCard/6\",\"type\":\"wordCard\",\"data\":{\"word\":\"CENTAUR\",\"revealed\":false,\"selected\":false,\"tips\":[]},\"location\":{\"name\":\"board\",\"x\":1,\"y\":1}},{\"id\":\"coverCard/red/19\",\"type\":\"coverCard\",\"data\":{\"color\":\"red\",\"img\":1},\"location\":{\"name\":\"redDeck\"}},{\"id\":\"coverCard/gray/21\",\"type\":\"coverCard\",\"data\":{\"color\":\"gray\",\"img\":1},\"location\":{\"name\":\"offscreenDeck\"}},{\"id\":\"coverCard/blue/6\",\"type\":\"coverCard\",\"data\":{\"color\":\"blue\",\"img\":3},\"location\":{\"name\":\"blueDeck\"}},{\"id\":\"coverCard/blue/3\",\"type\":\"coverCard\",\"data\":{\"color\":\"blue\",\"img\":5},\"location\":{\"name\":\"blueDeck\"}},{\"id\":\"coverCard/black/24\",\"type\":\"coverCard\",\"data\":{\"color\":\"black\",\"img\":1},\"location\":{\"name\":\"offscreenDeck\"}},{\"id\":\"wordCard/16\",\"type\":\"wordCard\",\"data\":{\"word\":\"PLATE\",\"revealed\":false,\"selected\":false,\"tips\":[]},\"location\":{\"name\":\"board\",\"x\":1,\"y\":3}},{\"id\":\"coverCard/gray/18\",\"type\":\"coverCard\",\"data\":{\"color\":\"gray\",\"img\":3},\"location\":{\"name\":\"offscreenDeck\"}},{\"id\":\"coverCard/blue/11\",\"type\":\"coverCard\",\"data\":{\"color\":\"blue\",\"img\":6},\"location\":{\"name\":\"blueDeck\"}},{\"id\":\"wordCard/9\",\"type\":\"wordCard\",\"data\":{\"word\":\"SQUARE\",\"revealed\":false,\"selected\":false,\"tips\":[]},\"location\":{\"name\":\"board\",\"x\":4,\"y\":1}},{\"id\":\"wordCard/2\",\"type\":\"wordCard\",\"data\":{\"word\":\"TRICK\",\"revealed\":false,\"selected\":false,\"tips\":[]},\"location\":{\"name\":\"board\",\"x\":2,\"y\":0}},{\"id\":\"coverCard/red/23\",\"type\":\"coverCard\",\"data\":{\"color\":\"red\",\"img\":8},\"location\":{\"name\":\"redDeck\"}},{\"id\":\"coverCard/red/15\",\"type\":\"coverCard\",\"data\":{\"color\":\"red\",\"img\":3},\"location\":{\"name\":\"redDeck\"}},{\"id\":\"wordCard/10\",\"type\":\"wordCard\",\"data\":{\"word\":\"SCIENTIST\",\"revealed\":false,\"selected\":false,\"tips\":[]},\"location\":{\"name\":\"board\",\"x\":0,\"y\":2}},{\"id\":\"wordCard/20\",\"type\":\"wordCard\",\"data\":{\"word\":\"SHORTS\",\"revealed\":false,\"selected\":false,\"tips\":[]},\"location\":{\"name\":\"board\",\"x\":0,\"y\":4}},{\"id\":\"wordCard/12\",\"type\":\"wordCard\",\"data\":{\"word\":\"VACUUM\",\"revealed\":false,\"selected\":false,\"tips\":[]},\"location\":{\"name\":\"board\",\"x\":2,\"y\":2}},{\"id\":\"coverCard/blue/8\",\"type\":\"coverCard\",\"data\":{\"color\":\"blue\",\"img\":7},\"location\":{\"name\":\"blueDeck\"}},{\"id\":\"wordCard/13\",\"type\":\"wordCard\",\"data\":{\"word\":\"WAKE\",\"revealed\":false,\"selected\":false,\"tips\":[]},\"location\":{\"name\":\"board\",\"x\":3,\"y\":2}},{\"id\":\"coverCard/gray/12\",\"type\":\"coverCard\",\"data\":{\"color\":\"gray\",\"img\":6},\"location\":{\"name\":\"offscreenDeck\"}},{\"id\":\"coverCard/gray/1\",\"type\":\"coverCard\",\"data\":{\"color\":\"gray\",\"img\":4},\"location\":{\"name\":\"offscreenDeck\"}},{\"id\":\"wordCard/11\",\"type\":\"wordCard\",\"data\":{\"word\":\"CANADA\",\"revealed\":false,\"selected\":false,\"tips\":[]},\"location\":{\"name\":\"board\",\"x\":1,\"y\":2}},{\"id\":\"coverCard/red/5\",\"type\":\"coverCard\",\"data\":{\"color\":\"red\",\"img\":4},\"location\":{\"name\":\"redDeck\"}},{\"id\":\"coverCard/blue/4\",\"type\":\"coverCard\",\"data\":{\"color\":\"blue\",\"img\":2},\"location\":{\"name\":\"blueDeck\"}},{\"id\":\"wordCard/24\",\"type\":\"wordCard\",\"data\":{\"word\":\"WEREWOLF\",\"revealed\":false,\"selected\":false,\"tips\":[]},\"location\":{\"name\":\"board\",\"x\":4,\"y\":4}},{\"id\":\"coverCard/gray/9\",\"type\":\"coverCard\",\"data\":{\"color\":\"gray\",\"img\":5},\"location\":{\"name\":\"offscreenDeck\"}},{\"id\":\"wordCard/18\",\"type\":\"wordCard\",\"data\":{\"word\":\"PITCHER\",\"revealed\":false,\"selected\":false,\"tips\":[]},\"location\":{\"name\":\"board\",\"x\":3,\"y\":3}},{\"id\":\"coverCard/gray/22\",\"type\":\"coverCard\",\"data\":{\"color\":\"gray\",\"img\":1},\"location\":{\"name\":\"offscreenDeck\"}},{\"id\":\"wordCard/5\",\"type\":\"wordCard\",\"data\":{\"word\":\"RACKET\",\"revealed\":false,\"selected\":false,\"tips\":[]},\"location\":{\"name\":\"board\",\"x\":0,\"y\":1}},{\"id\":\"wordCard/17\",\"type\":\"wordCard\",\"data\":{\"word\":\"MEDIC\",\"revealed\":false,\"selected\":false,\"tips\":[]},\"location\":{\"name\":\"board\",\"x\":2,\"y\":3}},{\"id\":\"wordCard/0\",\"type\":\"wordCard\",\"data\":{\"word\":\"TICK\",\"revealed\":false,\"selected\":false,\"tips\":[]},\"location\":{\"name\":\"board\",\"x\":0,\"y\":0}},{\"id\":\"wordCard/19\",\"type\":\"wordCard\",\"data\":{\"word\":\"COMPOUND\",\"revealed\":false,\"selected\":false,\"tips\":[]},\"location\":{\"name\":\"board\",\"x\":4,\"y\":3}},{\"id\":\"coverCard/gray/13\",\"type\":\"coverCard\",\"data\":{\"color\":\"gray\",\"img\":2},\"location\":{\"name\":\"offscreenDeck\"}},{\"id\":\"wordCard/1\",\"type\":\"wordCard\",\"data\":{\"word\":\"CANE\",\"revealed\":false,\"selected\":false,\"tips\":[]},\"location\":{\"name\":\"board\",\"x\":1,\"y\":0}},{\"id\":\"coverCard/blue/17\",\"type\":\"coverCard\",\"data\":{\"color\":\"blue\",\"img\":4},\"location\":{\"name\":\"blueDeck\"}},{\"id\":\"coverCard/blue/0\",\"type\":\"coverCard\",\"data\":{\"color\":\"blue\",\"img\":9},\"location\":{\"name\":\"blueDeck\"}},{\"id\":\"wordCard/7\",\"type\":\"wordCard\",\"data\":{\"word\":\"CHINA\",\"revealed\":false,\"selected\":false,\"tips\":[]},\"location\":{\"name\":\"board\",\"x\":2,\"y\":1}},{\"id\":\"coverCard/blue/14\",\"type\":\"coverCard\",\"data\":{\"color\":\"blue\",\"img\":8},\"location\":{\"name\":\"blueDeck\"}},{\"id\":\"coverCard/red/10\",\"type\":\"coverCard\",\"data\":{\"color\":\"red\",\"img\":6},\"location\":{\"name\":\"redDeck\"}},{\"id\":\"wordCard/4\",\"type\":\"wordCard\",\"data\":{\"word\":\"DENTIST\",\"revealed\":false,\"selected\":false,\"tips\":[]},\"location\":{\"name\":\"board\",\"x\":4,\"y\":0}},{\"id\":\"wordCard/14\",\"type\":\"wordCard\",\"data\":{\"word\":\"QUEEN\",\"revealed\":false,\"selected\":false,\"tips\":[]},\"location\":{\"name\":\"board\",\"x\":4,\"y\":2}},{\"id\":\"wordCard/3\",\"type\":\"wordCard\",\"data\":{\"word\":\"JACK\",\"revealed\":false,\"selected\":false,\"tips\":[]},\"location\":{\"name\":\"board\",\"x\":3,\"y\":0}},{\"id\":\"coverCard/blue/7\",\"type\":\"coverCard\",\"data\":{\"color\":\"blue\",\"img\":1},\"location\":{\"name\":\"blueDeck\"}},{\"id\":\"wordCard/21\",\"type\":\"wordCard\",\"data\":{\"word\":\"CAR\",\"revealed\":false,\"selected\":false,\"tips\":[]},\"location\":{\"name\":\"board\",\"x\":1,\"y\":4}},{\"id\":\"coverCard/red/2\",\"type\":\"coverCard\",\"data\":{\"color\":\"red\",\"img\":9},\"location\":{\"name\":\"redDeck\"}},{\"id\":\"wordCard/22\",\"type\":\"wordCard\",\"data\":{\"word\":\"PRESS\",\"revealed\":false,\"selected\":false,\"tips\":[]},\"location\":{\"name\":\"board\",\"x\":2,\"y\":4}}],\"suggests\":{\"team1\":[],\"team2\":[]},\"remainingCards\":{\"team1\":0,\"team2\":0},\"score\":{\"red\":8,\"blue\":9},\"phase\":\"game\",\"stage\":\"clue\",\"gameover\":null,\"gameMode\":\"classic\",\"player\":{\"id\":0,\"name\":\"jdijdi\",\"credentials\":\"jHWWAA7hl\",\"isHost\":true,\"isHidden\":false,\"team\":\"blue\",\"role\":\"operative\"},\"suddendeath\":false,\"agentsRemaining\":null,\"timeRemaining\":null,\"prevSide\":null,\"lockTeams\":false,\"timer\":{\"ts\":null,\"value\":null,\"running\":false,\"config\":{\"variant\":\"off\",\"overtime\":false,\"manualTimer\":90,\"sideTimer\":240,\"spymasterTimer\":180,\"operativeTimer\":90,\"extraTime\":120}},\"servertime\":1656079270147},\"ctx\":{\"numPlayers\":64,\"turn\":1,\"currentPlayer\":\"0\",\"playOrder\":[\"0\",\"1\",\"2\",\"3\",\"4\",\"5\",\"6\",\"7\",\"8\",\"9\",\"10\",\"11\",\"12\",\"13\",\"14\",\"15\",\"16\",\"17\",\"18\",\"19\",\"20\",\"21\",\"22\",\"23\",\"24\",\"25\",\"26\",\"27\",\"28\",\"29\",\"30\",\"31\",\"32\",\"33\",\"34\",\"35\",\"36\",\"37\",\"38\",\"39\",\"40\",\"41\",\"42\",\"43\",\"44\",\"45\",\"46\",\"47\",\"48\",\"49\",\"50\",\"51\",\"52\",\"53\",\"54\",\"55\",\"56\",\"57\",\"58\",\"59\",\"60\",\"61\",\"62\",\"63\"],\"playOrderPos\":0,\"phase\":null,\"activePlayers\":{\"0\":null,\"1\":null,\"2\":null,\"3\":null,\"4\":null,\"5\":null,\"6\":null,\"7\":null,\"8\":null,\"9\":null,\"10\":null,\"11\":null,\"12\":null,\"13\":null,\"14\":null,\"15\":null,\"16\":null,\"17\":null,\"18\":null,\"19\":null,\"20\":null,\"21\":null,\"22\":null,\"23\":null,\"24\":null,\"25\":null,\"26\":null,\"27\":null,\"28\":null,\"29\":null,\"30\":null,\"31\":null,\"32\":null,\"33\":null,\"34\":null,\"35\":null,\"36\":null,\"37\":null,\"38\":null,\"39\":null,\"40\":null,\"41\":null,\"42\":null,\"43\":null,\"44\":null,\"45\":null,\"46\":null,\"47\":null,\"48\":null,\"49\":null,\"50\":null,\"51\":null,\"52\":null,\"53\":null,\"54\":null,\"55\":null,\"56\":null,\"57\":null,\"58\":null,\"59\":null,\"60\":null,\"61\":null,\"62\":null,\"63\":null},\"players\":[],\"_activePlayersMoveLimit\":null,\"_activePlayersNumMoves\":{\"0\":2,\"1\":0,\"2\":0,\"3\":0,\"4\":0,\"5\":0,\"6\":0,\"7\":0,\"8\":0,\"9\":0,\"10\":0,\"11\":0,\"12\":0,\"13\":0,\"14\":0,\"15\":0,\"16\":0,\"17\":0,\"18\":0,\"19\":0,\"20\":0,\"21\":0,\"22\":0,\"23\":0,\"24\":0,\"25\":0,\"26\":0,\"27\":0,\"28\":0,\"29\":0,\"30\":0,\"31\":0,\"32\":0,\"33\":0,\"34\":0,\"35\":0,\"36\":0,\"37\":0,\"38\":0,\"39\":0,\"40\":0,\"41\":0,\"42\":0,\"43\":0,\"44\":0,\"45\":0,\"46\":0,\"47\":0,\"48\":0,\"49\":0,\"50\":0,\"51\":0,\"52\":0,\"53\":0,\"54\":0,\"55\":0,\"56\":0,\"57\":0,\"58\":0,\"59\":0,\"60\":0,\"61\":0,\"62\":0,\"63\":0},\"_prevActivePlayers\":[],\"_nextActivePlayers\":null,\"numMoves\":2},\"plugins\":{\"random\":{\"data\":{\"seed\":\"l4sirghg\",\"prngstate\":{\"c\":1104023,\"s0\":0.6451267816592008,\"s1\":0.338506423169747,\"s2\":0.154725247528404}}},\"events\":{\"data\":{}}},\"_undo\":[],\"_redo\":[],\"_stateID\":2},\"log\":[],\"filteredMetadata\":[{\"id\":0,\"name\":\"jdijdi\",\"isHost\":true,\"isHidden\":false},{\"id\":1},{\"id\":2},{\"id\":3},{\"id\":4},{\"id\":5},{\"id\":6},{\"id\":7},{\"id\":8},{\"id\":9},{\"id\":10},{\"id\":11},{\"id\":12},{\"id\":13},{\"id\":14},{\"id\":15},{\"id\":16},{\"id\":17},{\"id\":18},{\"id\":19},{\"id\":20},{\"id\":21},{\"id\":22},{\"id\":23},{\"id\":24},{\"id\":25},{\"id\":26},{\"id\":27},{\"id\":28},{\"id\":29},{\"id\":30},{\"id\":31},{\"id\":32},{\"id\":33},{\"id\":34},{\"id\":35},{\"id\":36},{\"id\":37},{\"id\":38},{\"id\":39},{\"id\":40},{\"id\":41},{\"id\":42},{\"id\":43},{\"id\":44},{\"id\":45},{\"id\":46},{\"id\":47},{\"id\":48},{\"id\":49},{\"id\":50},{\"id\":51},{\"id\":52},{\"id\":53},{\"id\":54},{\"id\":55},{\"id\":56},{\"id\":57},{\"id\":58},{\"id\":59},{\"id\":60},{\"id\":61},{\"id\":62},{\"id\":63}],\"initialState\":{\"G\":{\"matchID\":null,\"matchNum\":0,\"aroundURL\":\"\",\"teams\":{\"red\":{\"operatives\":[],\"spymasters\":[]},\"blue\":{\"operatives\":[],\"spymasters\":[]},\"team1\":[],\"team2\":[]},\"currentTeam\":null,\"prevSettings\":{\"gameMode\":null,\"language\":\"\",\"packs\":[]},\"clue\":{\"word\":null,\"number\":null},\"guessLimit\":-1,\"guesses\":-1,\"log\":[],\"animTokens\":[],\"suggests\":{\"team1\":[],\"team2\":[]},\"remainingCards\":{\"team1\":0,\"team2\":0},\"score\":{\"red\":null,\"blue\":null},\"phase\":\"settings\",\"stage\":null,\"gameover\":null,\"gameMode\":\"classic\",\"banBuffer\":{},\"player\":null,\"suddendeath\":false,\"agentsRemaining\":null,\"timeRemaining\":null,\"prevSide\":null,\"lockTeams\":false,\"timer\":{\"ts\":null,\"value\":null,\"running\":false,\"config\":{\"variant\":\"off\",\"overtime\":false,\"manualTimer\":90,\"sideTimer\":240,\"spymasterTimer\":180,\"operativeTimer\":90,\"extraTime\":120}}},\"ctx\":{\"numPlayers\":64,\"turn\":1,\"currentPlayer\":\"0\",\"playOrder\":[\"0\",\"1\",\"2\",\"3\",\"4\",\"5\",\"6\",\"7\",\"8\",\"9\",\"10\",\"11\",\"12\",\"13\",\"14\",\"15\",\"16\",\"17\",\"18\",\"19\",\"20\",\"21\",\"22\",\"23\",\"24\",\"25\",\"26\",\"27\",\"28\",\"29\",\"30\",\"31\",\"32\",\"33\",\"34\",\"35\",\"36\",\"37\",\"38\",\"39\",\"40\",\"41\",\"42\",\"43\",\"44\",\"45\",\"46\",\"47\",\"48\",\"49\",\"50\",\"51\",\"52\",\"53\",\"54\",\"55\",\"56\",\"57\",\"58\",\"59\",\"60\",\"61\",\"62\",\"63\"],\"playOrderPos\":0,\"phase\":null,\"activePlayers\":{\"0\":null,\"1\":null,\"2\":null,\"3\":null,\"4\":null,\"5\":null,\"6\":null,\"7\":null,\"8\":null,\"9\":null,\"10\":null,\"11\":null,\"12\":null,\"13\":null,\"14\":null,\"15\":null,\"16\":null,\"17\":null,\"18\":null,\"19\":null,\"20\":null,\"21\":null,\"22\":null,\"23\":null,\"24\":null,\"25\":null,\"26\":null,\"27\":null,\"28\":null,\"29\":null,\"30\":null,\"31\":null,\"32\":null,\"33\":null,\"34\":null,\"35\":null,\"36\":null,\"37\":null,\"38\":null,\"39\":null,\"40\":null,\"41\":null,\"42\":null,\"43\":null,\"44\":null,\"45\":null,\"46\":null,\"47\":null,\"48\":null,\"49\":null,\"50\":null,\"51\":null,\"52\":null,\"53\":null,\"54\":null,\"55\":null,\"56\":null,\"57\":null,\"58\":null,\"59\":null,\"60\":null,\"61\":null,\"62\":null,\"63\":null},\"players\":[],\"_activePlayersMoveLimit\":null,\"_activePlayersNumMoves\":{\"0\":2,\"1\":0,\"2\":0,\"3\":0,\"4\":0,\"5\":0,\"6\":0,\"7\":0,\"8\":0,\"9\":0,\"10\":0,\"11\":0,\"12\":0,\"13\":0,\"14\":0,\"15\":0,\"16\":0,\"17\":0,\"18\":0,\"19\":0,\"20\":0,\"21\":0,\"22\":0,\"23\":0,\"24\":0,\"25\":0,\"26\":0,\"27\":0,\"28\":0,\"29\":0,\"30\":0,\"31\":0,\"32\":0,\"33\":0,\"34\":0,\"35\":0,\"36\":0,\"37\":0,\"38\":0,\"39\":0,\"40\":0,\"41\":0,\"42\":0,\"43\":0,\"44\":0,\"45\":0,\"46\":0,\"47\":0,\"48\":0,\"49\":0,\"50\":0,\"51\":0,\"52\":0,\"53\":0,\"54\":0,\"55\":0,\"56\":0,\"57\":0,\"58\":0,\"59\":0,\"60\":0,\"61\":0,\"62\":0,\"63\":0},\"_prevActivePlayers\":[],\"_nextActivePlayers\":null,\"numMoves\":0},\"plugins\":{\"random\":{\"data\":{\"seed\":\"l4sirghg\"}},\"events\":{\"data\":{}}},\"_undo\":[{\"G\":{\"matchID\":null,\"matchNum\":0,\"aroundURL\":\"\",\"teams\":{\"red\":{\"operatives\":[],\"spymasters\":[]},\"blue\":{\"operatives\":[],\"spymasters\":[]},\"team1\":[],\"team2\":[]},\"currentTeam\":null,\"prevSettings\":{\"gameMode\":null,\"language\":\"\",\"packs\":[]},\"clue\":{\"word\":null,\"number\":null},\"guessLimit\":-1,\"guesses\":-1,\"log\":[],\"animTokens\":[],\"suggests\":{\"team1\":[],\"team2\":[]},\"remainingCards\":{\"team1\":0,\"team2\":0},\"score\":{\"red\":null,\"blue\":null},\"phase\":\"settings\",\"stage\":null,\"gameover\":null,\"gameMode\":\"classic\",\"banBuffer\":{},\"player\":null,\"suddendeath\":false,\"agentsRemaining\":null,\"timeRemaining\":null,\"prevSide\":null,\"lockTeams\":false,\"timer\":{\"ts\":null,\"value\":null,\"running\":false,\"config\":{\"variant\":\"off\",\"overtime\":false,\"manualTimer\":90,\"sideTimer\":240,\"spymasterTimer\":180,\"operativeTimer\":90,\"extraTime\":120}}},\"ctx\":{\"numPlayers\":64,\"turn\":1,\"currentPlayer\":\"0\",\"playOrder\":[\"0\",\"1\",\"2\",\"3\",\"4\",\"5\",\"6\",\"7\",\"8\",\"9\",\"10\",\"11\",\"12\",\"13\",\"14\",\"15\",\"16\",\"17\",\"18\",\"19\",\"20\",\"21\",\"22\",\"23\",\"24\",\"25\",\"26\",\"27\",\"28\",\"29\",\"30\",\"31\",\"32\",\"33\",\"34\",\"35\",\"36\",\"37\",\"38\",\"39\",\"40\",\"41\",\"42\",\"43\",\"44\",\"45\",\"46\",\"47\",\"48\",\"49\",\"50\",\"51\",\"52\",\"53\",\"54\",\"55\",\"56\",\"57\",\"58\",\"59\",\"60\",\"61\",\"62\",\"63\"],\"playOrderPos\":0,\"phase\":null,\"activePlayers\":{\"0\":null,\"1\":null,\"2\":null,\"3\":null,\"4\":null,\"5\":null,\"6\":null,\"7\":null,\"8\":null,\"9\":null,\"10\":null,\"11\":null,\"12\":null,\"13\":null,\"14\":null,\"15\":null,\"16\":null,\"17\":null,\"18\":null,\"19\":null,\"20\":null,\"21\":null,\"22\":null,\"23\":null,\"24\":null,\"25\":null,\"26\":null,\"27\":null,\"28\":null,\"29\":null,\"30\":null,\"31\":null,\"32\":null,\"33\":null,\"34\":null,\"35\":null,\"36\":null,\"37\":null,\"38\":null,\"39\":null,\"40\":null,\"41\":null,\"42\":null,\"43\":null,\"44\":null,\"45\":null,\"46\":null,\"47\":null,\"48\":null,\"49\":null,\"50\":null,\"51\":null,\"52\":null,\"53\":null,\"54\":null,\"55\":null,\"56\":null,\"57\":null,\"58\":null,\"59\":null,\"60\":null,\"61\":null,\"62\":null,\"63\":null},\"players\":[],\"_activePlayersMoveLimit\":null,\"_activePlayersNumMoves\":{\"0\":2,\"1\":0,\"2\":0,\"3\":0,\"4\":0,\"5\":0,\"6\":0,\"7\":0,\"8\":0,\"9\":0,\"10\":0,\"11\":0,\"12\":0,\"13\":0,\"14\":0,\"15\":0,\"16\":0,\"17\":0,\"18\":0,\"19\":0,\"20\":0,\"21\":0,\"22\":0,\"23\":0,\"24\":0,\"25\":0,\"26\":0,\"27\":0,\"28\":0,\"29\":0,\"30\":0,\"31\":0,\"32\":0,\"33\":0,\"34\":0,\"35\":0,\"36\":0,\"37\":0,\"38\":0,\"39\":0,\"40\":0,\"41\":0,\"42\":0,\"43\":0,\"44\":0,\"45\":0,\"46\":0,\"47\":0,\"48\":0,\"49\":0,\"50\":0,\"51\":0,\"52\":0,\"53\":0,\"54\":0,\"55\":0,\"56\":0,\"57\":0,\"58\":0,\"59\":0,\"60\":0,\"61\":0,\"62\":0,\"63\":0},\"_prevActivePlayers\":[],\"_nextActivePlayers\":null,\"numMoves\":0}}],\"_redo\":[],\"_stateID\":0}}]\n",
    "'''"
   ]
  },
  {
   "cell_type": "code",
   "execution_count": 3,
   "id": "2f2ad526",
   "metadata": {},
   "outputs": [],
   "source": [
    "start_str = '\"animTokens\":'\n",
    "end_str = '}}]'\n",
    "response = response[response.find(start_str) + len(start_str):]\n",
    "valid_response = response[:response.find(end_str)+ len(end_str)]\n",
    "full = json.loads(valid_response)"
   ]
  },
  {
   "cell_type": "code",
   "execution_count": 4,
   "id": "658e14aa",
   "metadata": {},
   "outputs": [],
   "source": [
    "final_cards = []\n",
    "for i in range(len(full)//2):\n",
    "    wordCard = next(filter(lambda card: re.match(f\"wordCard(.*)/{i}$\",card['id']), full))\n",
    "    coverCard = next(filter(lambda card: re.match(f\"coverCard(.*)/{i}$\",card['id']), full))\n",
    "    card = {}\n",
    "    card['word'] = wordCard['data']['word']\n",
    "    card['color'] = coverCard['data']['color']\n",
    "    card['revealed'] = wordCard['data']['revealed']\n",
    "    card['number'] = i\n",
    "    card['x_coord'] = wordCard['location']['x']\n",
    "    card['y_coord'] = wordCard['location']['y']\n",
    "    final_cards.append(card)"
   ]
  },
  {
   "cell_type": "code",
   "execution_count": 5,
   "id": "6935c4bb",
   "metadata": {},
   "outputs": [
    {
     "name": "stdout",
     "output_type": "stream",
     "text": [
      "('TICK', 'blue')\n",
      "('CANE', 'gray')\n",
      "('TRICK', 'red')\n",
      "('JACK', 'blue')\n",
      "('DENTIST', 'blue')\n",
      "('RACKET', 'red')\n",
      "('CENTAUR', 'blue')\n",
      "('CHINA', 'blue')\n",
      "('ENGLAND', 'blue')\n",
      "('SQUARE', 'gray')\n",
      "('SCIENTIST', 'red')\n",
      "('CANADA', 'blue')\n",
      "('VACUUM', 'gray')\n",
      "('WAKE', 'gray')\n",
      "('QUEEN', 'blue')\n",
      "('LACE', 'red')\n",
      "('PLATE', 'red')\n",
      "('MEDIC', 'blue')\n",
      "('PITCHER', 'gray')\n",
      "('COMPOUND', 'red')\n",
      "('SHORTS', 'red')\n",
      "('CAR', 'gray')\n",
      "('PRESS', 'gray')\n",
      "('SLIPPER', 'red')\n",
      "('WEREWOLF', 'black')\n"
     ]
    }
   ],
   "source": [
    "for card in final_cards:\n",
    "    #if card['color'] == 'red':\n",
    "    print((card['word'],card['color']))"
   ]
  }
 ],
 "metadata": {
  "kernelspec": {
   "display_name": "Python 3",
   "language": "python",
   "name": "python3"
  },
  "language_info": {
   "codemirror_mode": {
    "name": "ipython",
    "version": 3
   },
   "file_extension": ".py",
   "mimetype": "text/x-python",
   "name": "python",
   "nbconvert_exporter": "python",
   "pygments_lexer": "ipython3",
   "version": "3.9.6"
  }
 },
 "nbformat": 4,
 "nbformat_minor": 5
}
